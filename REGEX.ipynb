{
 "cells": [
  {
   "cell_type": "markdown",
   "id": "4d1c5b74-b7a8-46dc-b3b7-e0debb0ac8bf",
   "metadata": {},
   "source": [
    "RegEx module\n"
   ]
  },
  {
   "cell_type": "code",
   "execution_count": 3,
   "id": "50f69b33-a31f-4b7b-80c0-e0882d734575",
   "metadata": {},
   "outputs": [],
   "source": [
    "import re"
   ]
  },
  {
   "cell_type": "markdown",
   "id": "f6250a40-68a6-45fc-beac-c7d968cd7d81",
   "metadata": {},
   "source": [
    "REGEX FUCTION"
   ]
  },
  {
   "cell_type": "markdown",
   "id": "ae89e22f-b0d6-49b4-a498-0437d1483704",
   "metadata": {},
   "source": [
    "\"findall\" || возвращает список всех найденных совпадений в строке."
   ]
  },
  {
   "cell_type": "code",
   "execution_count": 6,
   "id": "d2756f30-2b77-46b0-8069-2d39948db3c9",
   "metadata": {},
   "outputs": [
    {
     "name": "stdout",
     "output_type": "stream",
     "text": [
      "['ai', 'ai']\n"
     ]
    }
   ],
   "source": [
    "import re\n",
    "\n",
    "#Return a list containing every occurrence of \"ai\":\n",
    "\n",
    "txt = \"The rain in Spain\"\n",
    "x = re.findall(\"ai\", txt)\n",
    "print(x)\n"
   ]
  },
  {
   "cell_type": "markdown",
   "id": "04d36302-c860-46a0-8081-96ba43d1f6ac",
   "metadata": {},
   "source": [
    "\"search\" || возвращает объект Match, если совпадение найдено в любой части строки."
   ]
  },
  {
   "cell_type": "code",
   "execution_count": 26,
   "id": "6d4870d8-dbe4-4bc4-9cad-99ffc47650c0",
   "metadata": {},
   "outputs": [
    {
     "name": "stdout",
     "output_type": "stream",
     "text": [
      "The first white-space character is located in position: 3\n"
     ]
    }
   ],
   "source": [
    "import re\n",
    "\n",
    "txt = \"The rain in Spain\"\n",
    "x = re.search(\"\\s\", txt)\n",
    "\n",
    "print(\"The first white-space character is located in position:\", x.start())\n"
   ]
  },
  {
   "cell_type": "markdown",
   "id": "0fc1e201-e647-4d08-9d20-4792a474ded1",
   "metadata": {},
   "source": [
    "\"split\" || возвращает список, в котором строка разделена по каждому совпадению"
   ]
  },
  {
   "cell_type": "code",
   "execution_count": 12,
   "id": "d1aadd04-499b-41c8-87ba-4f3f6f3571d0",
   "metadata": {},
   "outputs": [
    {
     "name": "stdout",
     "output_type": "stream",
     "text": [
      "['The', 'rain', 'in', 'Spain']\n"
     ]
    }
   ],
   "source": [
    "import re\n",
    "\n",
    "#Split the string at every white-space character:\n",
    "\n",
    "txt = \"The rain in Spain\"\n",
    "x = re.split(\"\\s\", txt)\n",
    "print(x)\n"
   ]
  },
  {
   "cell_type": "markdown",
   "id": "7e24419f-1432-4a8b-ae58-370c92f485c7",
   "metadata": {},
   "source": [
    "\"sub\" || заменяет одно или несколько совпадений заданной строкой"
   ]
  },
  {
   "cell_type": "code",
   "execution_count": 15,
   "id": "f861f139-27d7-41aa-9fa8-3b979d9f67d9",
   "metadata": {},
   "outputs": [
    {
     "name": "stdout",
     "output_type": "stream",
     "text": [
      "The9rain9in9Spain\n"
     ]
    }
   ],
   "source": [
    "import re\n",
    "\n",
    "#Replace all white-space characters with the digit \"9\":\n",
    "\n",
    "txt = \"The rain in Spain\"\n",
    "x = re.sub(\"\\s\", \"9\", txt)\n",
    "print(x)\n"
   ]
  },
  {
   "cell_type": "markdown",
   "id": "8de43bca-8fbe-4f23-aeb4-8c6d415c16fa",
   "metadata": {},
   "source": [
    "METACHARACTERS"
   ]
  },
  {
   "cell_type": "markdown",
   "id": "3962920f-7ecf-4ddc-ae42-4369ce2c83e5",
   "metadata": {},
   "source": [
    " [] — задает набор символов для поиска, например, \"[a-m]\" ищет любые буквы от 'a' до 'm'.\r",
    "\r\n"
   ]
  },
  {
   "cell_type": "code",
   "execution_count": 22,
   "id": "88ffd4ce-4ec9-4abc-90cd-db43cc089a1d",
   "metadata": {},
   "outputs": [
    {
     "name": "stdout",
     "output_type": "stream",
     "text": [
      "['h', 'e', 'a', 'i', 'i', 'a', 'i']\n"
     ]
    }
   ],
   "source": [
    "import re\n",
    "\n",
    "txt = \"The rain in Spain\"\n",
    "\n",
    "#Find all lower case characters alphabetically between \"a\" and \"m\":\n",
    "\n",
    "x = re.findall(\"[a-m]\", txt)\n",
    "print(x)\n"
   ]
  },
  {
   "cell_type": "markdown",
   "id": "40ef955b-165c-410c-83bb-1d2831a31c7b",
   "metadata": {},
   "source": [
    "\\ — указывает на специальную последовательность, например, \\d ищет любую цифру."
   ]
  },
  {
   "cell_type": "code",
   "execution_count": 32,
   "id": "ba938f5b-7854-459f-912d-3a2d5fd92dea",
   "metadata": {},
   "outputs": [
    {
     "name": "stdout",
     "output_type": "stream",
     "text": [
      "['5', '9']\n"
     ]
    }
   ],
   "source": [
    "import re\n",
    "\n",
    "txt = \"That will be 59 dollars\"\n",
    "\n",
    "#Find all digit characters:\n",
    "\n",
    "x = re.findall(\"\\d\", txt)\n",
    "print(x)\n"
   ]
  },
  {
   "cell_type": "markdown",
   "id": "d5b8b5a5-ab6b-41c7-9173-f9b13b5fefc6",
   "metadata": {},
   "source": [
    ". — соответствует любому символу (кроме новой строки),\n",
    "например, \"he..o\" найдет \"hello\", \"heaco\" и т. д."
   ]
  },
  {
   "cell_type": "code",
   "execution_count": 35,
   "id": "4fca7b67-458c-4c86-be3c-f351bd85b2f2",
   "metadata": {},
   "outputs": [
    {
     "name": "stdout",
     "output_type": "stream",
     "text": [
      "['hello']\n"
     ]
    }
   ],
   "source": [
    "import re\n",
    "\n",
    "txt = \"hello planet\"\n",
    "\n",
    "#Search for a sequence that starts with \"he\", followed by two (any) characters, and an \"o\":\n",
    "\n",
    "x = re.findall(\"he..o\", txt)\n",
    "print(x)\n"
   ]
  },
  {
   "cell_type": "markdown",
   "id": "a044f680-f5fd-44e7-b00e-310e3f73aee2",
   "metadata": {},
   "source": [
    "`^` — проверяет, начинается ли строка с указанного шаблона, например, `^hello` найдет строки, начинающиеся с `\"hello\"`."
   ]
  },
  {
   "cell_type": "code",
   "execution_count": 38,
   "id": "64c67aef-2760-44d9-9373-733e881c9f7c",
   "metadata": {},
   "outputs": [
    {
     "name": "stdout",
     "output_type": "stream",
     "text": [
      "Yes, the string starts with 'hello'\n"
     ]
    }
   ],
   "source": [
    "import re\n",
    "\n",
    "txt = \"hello planet\"\n",
    "\n",
    "#Check if the string starts with 'hello':\n",
    "\n",
    "x = re.findall(\"^hello\", txt)\n",
    "if x:\n",
    "  print(\"Yes, the string starts with 'hello'\")\n",
    "else:\n",
    "  print(\"No match\")\n"
   ]
  },
  {
   "cell_type": "markdown",
   "id": "98e6094e-5bb0-40ca-a85a-a9b207ae585c",
   "metadata": {},
   "source": [
    "`$` — проверяет, заканчивается ли строка указанным шаблоном, например, `planet$` найдет строки, оканчивающиеся на `\"planet\"`."
   ]
  },
  {
   "cell_type": "code",
   "execution_count": 41,
   "id": "c4af0bec-8227-41f0-be60-19b6e443fd6c",
   "metadata": {},
   "outputs": [
    {
     "name": "stdout",
     "output_type": "stream",
     "text": [
      "Yes, the string ends with 'planet'\n"
     ]
    }
   ],
   "source": [
    "import re\n",
    "\n",
    "txt = \"hello planet\"\n",
    "\n",
    "#Check if the string ends with 'planet':\n",
    "\n",
    "x = re.findall(\"planet$\", txt)\n",
    "if x:\n",
    "  print(\"Yes, the string ends with 'planet'\")\n",
    "else:\n",
    "  print(\"No match\")\n"
   ]
  },
  {
   "cell_type": "markdown",
   "id": "d38c2fb6-e8f8-46fc-9626-f3c8940dd69e",
   "metadata": {},
   "source": [
    "`*` — соответствует нулю или более вхождениям предыдущего символа, например, `\"he.*o\"` найдет `\"heo\"`, `\"hello\"`, `\"he123o\"` и т. д."
   ]
  },
  {
   "cell_type": "code",
   "execution_count": 44,
   "id": "9a5e4b3b-b855-470b-8d3a-8282cd21874a",
   "metadata": {},
   "outputs": [
    {
     "name": "stdout",
     "output_type": "stream",
     "text": [
      "['hello']\n"
     ]
    }
   ],
   "source": [
    "import re\n",
    "\n",
    "txt = \"hello planet\"\n",
    "\n",
    "#Search for a sequence that starts with \"he\", followed by 0 or more  (any) characters, and an \"o\":\n",
    "\n",
    "x = re.findall(\"he.*o\", txt)\n",
    "\n",
    "print(x)\n"
   ]
  },
  {
   "cell_type": "markdown",
   "id": "85292b4e-d0d6-4c4d-8d84-ccc3d6cb7dc3",
   "metadata": {},
   "source": [
    "`+` — соответствует одному или более вхождениям предыдущего символа, например, `\"he.+o\"` найдет `\"hello\"`, `\"he123o\"`, но не `\"heo\"`."
   ]
  },
  {
   "cell_type": "code",
   "execution_count": 47,
   "id": "42fef100-9f37-4815-804b-0b46592f9453",
   "metadata": {},
   "outputs": [
    {
     "name": "stdout",
     "output_type": "stream",
     "text": [
      "['hello']\n"
     ]
    }
   ],
   "source": [
    "import re\n",
    "\n",
    "txt = \"hello planet\"\n",
    "\n",
    "#Search for a sequence that starts with \"he\", followed by 1 or more  (any) characters, and an \"o\":\n",
    "\n",
    "x = re.findall(\"he.+o\", txt)\n",
    "\n",
    "print(x)\n"
   ]
  },
  {
   "cell_type": "markdown",
   "id": "9070c481-32b0-4ea1-b8dc-334d1a6c4c85",
   "metadata": {},
   "source": [
    "`?` — соответствует нулю или одному вхождению предыдущего символа, например, `\"he.?o\"` найдет `\"heo\"` и `\"hello\"`, но не `\"he123o\"`."
   ]
  },
  {
   "cell_type": "code",
   "execution_count": 50,
   "id": "a7a54221-4b90-42c9-bbb9-72b2f9678b42",
   "metadata": {},
   "outputs": [
    {
     "name": "stdout",
     "output_type": "stream",
     "text": [
      "[]\n"
     ]
    }
   ],
   "source": [
    "import re\n",
    "\n",
    "txt = \"hello planet\"\n",
    "\n",
    "#Search for a sequence that starts with \"he\", followed by 0 or 1  (any) character, and an \"o\":\n",
    "\n",
    "x = re.findall(\"he.?o\", txt)\n",
    "\n",
    "print(x)\n",
    "\n",
    "#This time we got no match, because there were not zero, not one, but two characters between \"he\" and the \"o\"\n"
   ]
  },
  {
   "cell_type": "markdown",
   "id": "6d8f6cd4-def8-48af-9160-9e28e5a2b9d8",
   "metadata": {},
   "source": [
    "`{}` — указывает точное количество вхождений предыдущего символа, например, `\"he.{2}o\"` найдет строки, где между `\"he\"` и `\"o\"` ровно 2 символа, например, `\"hexxo\"`, но не `\"helo\"` или `\"hexxxo\"`."
   ]
  },
  {
   "cell_type": "code",
   "execution_count": 53,
   "id": "bdc20d9d-5be6-4fc8-8da1-8359b9b31f97",
   "metadata": {},
   "outputs": [
    {
     "name": "stdout",
     "output_type": "stream",
     "text": [
      "['hello']\n"
     ]
    }
   ],
   "source": [
    "import re\n",
    "\n",
    "txt = \"hello planet\"\n",
    "\n",
    "#Search for a sequence that starts with \"he\", followed excactly 2 (any) characters, and an \"o\":\n",
    "\n",
    "x = re.findall(\"he.{2}o\", txt)\n",
    "\n",
    "print(x)\n",
    "\n"
   ]
  },
  {
   "cell_type": "markdown",
   "id": "db9ba893-7aeb-4cc9-9b44-cb5ee924428c",
   "metadata": {},
   "source": [
    "| — означает \"или\", например, \"falls|stays\" найдет либо \"falls\", либо \"stays\"."
   ]
  },
  {
   "cell_type": "code",
   "execution_count": 58,
   "id": "5211316e-6a22-42ab-9e20-3f6dcc2d52e3",
   "metadata": {},
   "outputs": [
    {
     "name": "stdout",
     "output_type": "stream",
     "text": [
      "['falls']\n",
      "Yes, there is at least one match!\n"
     ]
    }
   ],
   "source": [
    "import re\n",
    "\n",
    "txt = \"The rain in Spain falls mainly in the plain!\"\n",
    "\n",
    "#Check if the string contains either \"falls\" or \"stays\":\n",
    "\n",
    "x = re.findall(\"falls|stays\", txt)\n",
    "\n",
    "print(x)\n",
    "\n",
    "if x:\n",
    "  print(\"Yes, there is at least one match!\")\n",
    "else:\n",
    "  print(\"No match\")\n"
   ]
  },
  {
   "cell_type": "markdown",
   "id": "f394e06a-e030-4802-bd44-761c90f7fabf",
   "metadata": {},
   "source": [
    "`()` — группирует выражение и захватывает его для последующего использования, например, `\"(ab)+\"` найдет `\"ab\"`, `\"abab\"`, `\"ababab\"` и т. д."
   ]
  },
  {
   "cell_type": "markdown",
   "id": "02b87320-cceb-4e90-b24f-29018604a7fe",
   "metadata": {},
   "source": [
    "SPECIAL SEQUENCES"
   ]
  },
  {
   "cell_type": "markdown",
   "id": "f938a3bb-329a-4fab-9471-16c2b5be0694",
   "metadata": {},
   "source": [
    "`\\A` — проверяет, находятся ли указанные символы в начале строки, например, `\\AThe` найдет `\"The...\"`, но не `\"some The...\"`."
   ]
  },
  {
   "cell_type": "code",
   "execution_count": 66,
   "id": "747fabb8-0627-494b-9aed-b95326ac5f91",
   "metadata": {},
   "outputs": [
    {
     "name": "stdout",
     "output_type": "stream",
     "text": [
      "['The']\n",
      "Yes, there is a match!\n"
     ]
    }
   ],
   "source": [
    "import re\n",
    "\n",
    "txt = \"The rain in Spain\"\n",
    "\n",
    "#Check if the string starts with \"The\":\n",
    "\n",
    "x = re.findall(\"\\AThe\", txt)\n",
    "\n",
    "print(x)\n",
    "\n",
    "if x:\n",
    "  print(\"Yes, there is a match!\")\n",
    "else:\n",
    "  print(\"No match\")\n"
   ]
  },
  {
   "cell_type": "markdown",
   "id": "495f8fad-b68c-4b70-9e14-a9c75fd6fcd6",
   "metadata": {},
   "source": [
    "`\\b` — указывает границу слова, например, `r\"\\bcat\"` найдет `\"cat\"` в `\"catfish\"`, но не в `\"scatter\"`, а `r\"cat\\b\"` найдет `\"cat\"` в `\"black cat\"`, но не в `\"caterpillar\"`.)"
   ]
  },
  {
   "cell_type": "code",
   "execution_count": 69,
   "id": "805b529d-1854-4281-b083-414af448ec80",
   "metadata": {},
   "outputs": [
    {
     "name": "stdout",
     "output_type": "stream",
     "text": [
      "[]\n",
      "No match\n"
     ]
    }
   ],
   "source": [
    "import re\n",
    "\n",
    "txt = \"The rain in Spain\"\n",
    "\n",
    "#Check if \"ain\" is present at the beginning of a WORD:\n",
    "\n",
    "x = re.findall(r\"\\bain\", txt)\n",
    "\n",
    "print(x)\n",
    "\n",
    "if x:\n",
    "  print(\"Yes, there is at least one match!\")\n",
    "else:\n",
    "  print(\"No match\")\n"
   ]
  },
  {
   "cell_type": "code",
   "execution_count": 71,
   "id": "650a7c89-9525-4273-b341-5d92ea9f281d",
   "metadata": {},
   "outputs": [
    {
     "name": "stdout",
     "output_type": "stream",
     "text": [
      "['ain', 'ain']\n",
      "Yes, there is at least one match!\n"
     ]
    }
   ],
   "source": [
    "import re\n",
    "\n",
    "txt = \"The rain in Spain\"\n",
    "\n",
    "#Check if \"ain\" is present at the end of a WORD:\n",
    "\n",
    "x = re.findall(r\"ain\\b\", txt)\n",
    "\n",
    "print(x)\n",
    "\n",
    "if x:\n",
    "  print(\"Yes, there is at least one match!\")\n",
    "else:\n",
    "  print(\"No match\")\n"
   ]
  },
  {
   "cell_type": "markdown",
   "id": "cd43969a-46c6-4b4e-9629-0f721ce3634f",
   "metadata": {},
   "source": [
    "\\B — проверяет, что указанные символы находятся внутри слова, но не на границе:\n",
    "\n",
    "r\"\\Bain\" найдет \"ain\" в \"rain\" или \"again\", но не в \"ain\" в начале слова.\n",
    "r\"ain\\B\" найдет \"ain\" в \"again\" или \"paint\", но не в \"plain\"."
   ]
  },
  {
   "cell_type": "code",
   "execution_count": 74,
   "id": "9f6f9222-5f3c-45fe-845c-a69157bb4b09",
   "metadata": {},
   "outputs": [
    {
     "name": "stdout",
     "output_type": "stream",
     "text": [
      "['ain', 'ain']\n",
      "Yes, there is at least one match!\n"
     ]
    }
   ],
   "source": [
    "import re\n",
    "\n",
    "txt = \"The rain in Spain\"\n",
    "\n",
    "#Check if \"ain\" is present, but NOT at the beginning of a word:\n",
    "\n",
    "x = re.findall(r\"\\Bain\", txt)\n",
    "\n",
    "print(x)\n",
    "\n",
    "if x:\n",
    "  print(\"Yes, there is at least one match!\")\n",
    "else:\n",
    "  print(\"No match\")\n"
   ]
  },
  {
   "cell_type": "code",
   "execution_count": 76,
   "id": "b30b0bf3-5269-4f13-abf3-c2920abd145c",
   "metadata": {},
   "outputs": [
    {
     "name": "stdout",
     "output_type": "stream",
     "text": [
      "[]\n",
      "No match\n"
     ]
    }
   ],
   "source": [
    "import re\n",
    "\n",
    "txt = \"The rain in Spain\"\n",
    "\n",
    "#Check if \"ain\" is present, but NOT at the end of a word:\n",
    "\n",
    "x = re.findall(r\"ain\\B\", txt)\n",
    "\n",
    "print(x)\n",
    "\n",
    "if x:\n",
    "  print(\"Yes, there is at least one match!\")\n",
    "else:\n",
    "  print(\"No match\")\n"
   ]
  },
  {
   "cell_type": "markdown",
   "id": "45b969e2-2a37-43d4-a27c-63ad856ffe9d",
   "metadata": {},
   "source": [
    "\\d — ищет любую цифру от 0 до 9, например, \"\\d\" найдет \"5\" в \"a5b\"."
   ]
  },
  {
   "cell_type": "code",
   "execution_count": 79,
   "id": "1e6fbe9e-31f0-40f0-8698-fe603dd03164",
   "metadata": {},
   "outputs": [
    {
     "name": "stdout",
     "output_type": "stream",
     "text": [
      "[]\n",
      "No match\n"
     ]
    }
   ],
   "source": [
    "import re\n",
    "\n",
    "txt = \"The rain in Spain\"\n",
    "\n",
    "#Check if the string contains any digits (numbers from 0-9):\n",
    "\n",
    "x = re.findall(\"\\d\", txt)\n",
    "\n",
    "print(x)\n",
    "\n",
    "if x:\n",
    "  print(\"Yes, there is at least one match!\")\n",
    "else:\n",
    "  print(\"No match\")\n"
   ]
  },
  {
   "cell_type": "markdown",
   "id": "8b9818e3-6f2e-40c7-b4ac-4934e32b3259",
   "metadata": {},
   "source": [
    "\\D\tReturns a match where the string DOES NOT contain digits\t\"\\D\""
   ]
  },
  {
   "cell_type": "code",
   "execution_count": 82,
   "id": "52470136-7f62-497e-ae9a-0f7aaa836b07",
   "metadata": {},
   "outputs": [
    {
     "name": "stdout",
     "output_type": "stream",
     "text": [
      "['T', 'h', 'e', ' ', 'r', 'a', 'i', 'n', ' ', 'i', 'n', ' ', 'S', 'p', 'a', 'i', 'n']\n",
      "Yes, there is at least one match!\n"
     ]
    }
   ],
   "source": [
    "import re\n",
    "\n",
    "txt = \"The rain in Spain\"\n",
    "\n",
    "#Return a match at every no-digit character:\n",
    "\n",
    "x = re.findall(\"\\D\", txt)\n",
    "\n",
    "print(x)\n",
    "\n",
    "if x:\n",
    "  print(\"Yes, there is at least one match!\")\n",
    "else:\n",
    "  print(\"No match\")\n"
   ]
  },
  {
   "cell_type": "markdown",
   "id": "0eb8f795-5b0d-4e00-a983-8bcb51d546b5",
   "metadata": {},
   "source": [
    "\\s — ищет любой пробельный символ (пробел, табуляцию, перевод строки), например, \"\\s\" найдет пробел в \"hello world\"."
   ]
  },
  {
   "cell_type": "code",
   "execution_count": 85,
   "id": "1c46c813-cbc2-48ea-a909-a8cb8ec8704e",
   "metadata": {},
   "outputs": [
    {
     "name": "stdout",
     "output_type": "stream",
     "text": [
      "[' ', ' ', ' ']\n",
      "Yes, there is at least one match!\n"
     ]
    }
   ],
   "source": [
    "import re\n",
    "\n",
    "txt = \"The rain in Spain\"\n",
    "\n",
    "#Return a match at every white-space character:\n",
    "\n",
    "x = re.findall(\"\\s\", txt)\n",
    "\n",
    "print(x)\n",
    "\n",
    "if x:\n",
    "  print(\"Yes, there is at least one match!\")\n",
    "else:\n",
    "  print(\"No match\")\n"
   ]
  },
  {
   "cell_type": "markdown",
   "id": "f5d4c386-238d-4cbd-92ea-338d6b42a05a",
   "metadata": {},
   "source": [
    "\\S — ищет любой символ, кроме пробела, например, \"\\S\" найдет \"A\" в \" A \"."
   ]
  },
  {
   "cell_type": "code",
   "execution_count": 88,
   "id": "132e9bbb-5bf6-42b7-8609-5acfe79b2560",
   "metadata": {},
   "outputs": [
    {
     "name": "stdout",
     "output_type": "stream",
     "text": [
      "['T', 'h', 'e', 'r', 'a', 'i', 'n', 'i', 'n', 'S', 'p', 'a', 'i', 'n']\n",
      "Yes, there is at least one match!\n"
     ]
    }
   ],
   "source": [
    "import re\n",
    "\n",
    "txt = \"The rain in Spain\"\n",
    "\n",
    "#Return a match at every NON white-space character:\n",
    "\n",
    "x = re.findall(\"\\S\", txt)\n",
    "\n",
    "print(x)\n",
    "\n",
    "if x:\n",
    "  print(\"Yes, there is at least one match!\")\n",
    "else:\n",
    "  print(\"No match\")\n"
   ]
  },
  {
   "cell_type": "markdown",
   "id": "9aa8b926-060f-4041-bd51-d3db734f3e67",
   "metadata": {},
   "source": [
    "\\w — ищет любой буквенно-цифровой символ (A-Z, a-z, 0-9, _), например, \"\\w\" найдет \"A\" в \"A1_\", но не \"@\"."
   ]
  },
  {
   "cell_type": "code",
   "execution_count": 92,
   "id": "408048d0-1b21-433b-bf6e-09f82e9a9c1e",
   "metadata": {},
   "outputs": [
    {
     "name": "stdout",
     "output_type": "stream",
     "text": [
      "['T', 'h', 'e', 'r', 'a', 'i', 'n', 'i', 'n', 'S', 'p', 'a', 'i', 'n']\n",
      "Yes, there is at least one match!\n"
     ]
    }
   ],
   "source": [
    "import re\n",
    "\n",
    "txt = \"The rain in Spain\"\n",
    "\n",
    "#Return a match at every word character (characters from a to Z, digits from 0-9, and the underscore _ character):\n",
    "\n",
    "x = re.findall(\"\\w\", txt)\n",
    "\n",
    "print(x)\n",
    "\n",
    "if x:\n",
    "  print(\"Yes, there is at least one match!\")\n",
    "else:\n",
    "  print(\"No match\")\n"
   ]
  },
  {
   "cell_type": "markdown",
   "id": "0ed74f30-0d3d-43d9-90ab-3b6e2b023fe2",
   "metadata": {},
   "source": [
    "\\W — ищет любой символ, кроме буквенно-цифровых (A-Z, a-z, 0-9, _), например, \"\\W\" найдет \"@\" в \"Hello@World\"."
   ]
  },
  {
   "cell_type": "code",
   "execution_count": 95,
   "id": "68f43306-f9b8-4f3c-91b5-2a6f04868a32",
   "metadata": {},
   "outputs": [
    {
     "name": "stdout",
     "output_type": "stream",
     "text": [
      "[' ', ' ', ' ']\n",
      "Yes, there is at least one match!\n"
     ]
    }
   ],
   "source": [
    "import re\n",
    "\n",
    "txt = \"The rain in Spain\"\n",
    "\n",
    "#Return a match at every NON word character (characters NOT between a and Z. Like \"!\", \"?\" white-space etc.):\n",
    "\n",
    "x = re.findall(\"\\W\", txt)\n",
    "\n",
    "print(x)\n",
    "\n",
    "if x:\n",
    "  print(\"Yes, there is at least one match!\")\n",
    "else:\n",
    "  print(\"No match\")\n"
   ]
  },
  {
   "cell_type": "markdown",
   "id": "da7682cf-0557-456f-91cd-a2c0a232dffe",
   "metadata": {},
   "source": [
    "\\Z — проверяет, находятся ли указанные символы в конце строки, например, \"Spain\\Z\" найдет \"Spain\" в \"Hello Spain\", но не в \"Spanish\"."
   ]
  },
  {
   "cell_type": "code",
   "execution_count": 98,
   "id": "d4b94d92-9fa8-418e-bc92-0bb1de405175",
   "metadata": {},
   "outputs": [
    {
     "name": "stdout",
     "output_type": "stream",
     "text": [
      "['Spain']\n",
      "Yes, there is a match!\n"
     ]
    }
   ],
   "source": [
    "import re\n",
    "\n",
    "txt = \"The rain in Spain\"\n",
    "\n",
    "#Check if the string ends with \"Spain\":\n",
    "\n",
    "x = re.findall(\"Spain\\Z\", txt)\n",
    "\n",
    "print(x)\n",
    "\n",
    "if x:\n",
    "  print(\"Yes, there is a match!\")\n",
    "else:\n",
    "  print(\"No match\")\n"
   ]
  },
  {
   "cell_type": "markdown",
   "id": "f481b055-9014-41f9-a460-c603e8e84471",
   "metadata": {},
   "source": [
    "SETS"
   ]
  },
  {
   "cell_type": "markdown",
   "id": "79f2f82c-97f5-43c1-a1eb-b7dc1ba8eb16",
   "metadata": {},
   "source": [
    "[arn] — ищет любой из указанных символов (a, r или n), например, найдет \"a\" в \"cat\", \"r\" в \"car\", \"n\" в \"net\"."
   ]
  },
  {
   "cell_type": "code",
   "execution_count": 102,
   "id": "bcc3c3f3-dd8b-448e-b158-6414424134f6",
   "metadata": {},
   "outputs": [
    {
     "name": "stdout",
     "output_type": "stream",
     "text": [
      "['r', 'a', 'n', 'n', 'a', 'n']\n",
      "Yes, there is at least one match!\n"
     ]
    }
   ],
   "source": [
    "import re\n",
    "\n",
    "txt = \"The rain in Spain\"\n",
    "\n",
    "#Check if the string has any a, r, or n characters:\n",
    "\n",
    "x = re.findall(\"[arn]\", txt)\n",
    "\n",
    "print(x)\n",
    "\n",
    "if x:\n",
    "  print(\"Yes, there is at least one match!\")\n",
    "else:\n",
    "  print(\"No match\")\n"
   ]
  },
  {
   "cell_type": "markdown",
   "id": "c54b01f9-4402-430e-9a9f-7739bb3a0015",
   "metadata": {},
   "source": [
    "[a-n] — ищет любую строчную букву от a до n, например, найдет \"c\" в \"cat\", но не \"p\" в \"pen\"."
   ]
  },
  {
   "cell_type": "code",
   "execution_count": 105,
   "id": "2634eda3-58c2-4b08-88fa-4ee32d641ca3",
   "metadata": {},
   "outputs": [
    {
     "name": "stdout",
     "output_type": "stream",
     "text": [
      "['h', 'e', 'a', 'i', 'n', 'i', 'n', 'a', 'i', 'n']\n",
      "Yes, there is at least one match!\n"
     ]
    }
   ],
   "source": [
    "import re\n",
    "\n",
    "txt = \"The rain in Spain\"\n",
    "\n",
    "#Check if the string has any characters between a and n:\n",
    "\n",
    "x = re.findall(\"[a-n]\", txt)\n",
    "\n",
    "print(x)\n",
    "\n",
    "if x:\n",
    "  print(\"Yes, there is at least one match!\")\n",
    "else:\n",
    "  print(\"No match\")\n"
   ]
  },
  {
   "cell_type": "markdown",
   "id": "708c40c5-f17d-49c8-8369-5e715b06d041",
   "metadata": {},
   "source": [
    "[^arn] — ищет любой символ, кроме a, r и n, например, найдет \"b\" в \"bat\", но не \"a\" в \"car\"."
   ]
  },
  {
   "cell_type": "code",
   "execution_count": 108,
   "id": "5cc304a8-71fa-4a6c-84bd-9f4e0150f391",
   "metadata": {},
   "outputs": [
    {
     "name": "stdout",
     "output_type": "stream",
     "text": [
      "['T', 'h', 'e', ' ', 'i', ' ', 'i', ' ', 'S', 'p', 'i']\n",
      "Yes, there is at least one match!\n"
     ]
    }
   ],
   "source": [
    "import re\n",
    "\n",
    "txt = \"The rain in Spain\"\n",
    "\n",
    "#Check if the string has other characters than a, r, or n:\n",
    "\n",
    "x = re.findall(\"[^arn]\", txt)\n",
    "\n",
    "print(x)\n",
    "\n",
    "if x:\n",
    "  print(\"Yes, there is at least one match!\")\n",
    "else:\n",
    "  print(\"No match\")\n"
   ]
  },
  {
   "cell_type": "markdown",
   "id": "b638f3ca-114e-4c7f-9040-772cfbeda290",
   "metadata": {},
   "source": [
    "[0123] — ищет любую из указанных цифр (0, 1, 2 или 3), например, найдет \"2\" в \"house2\", но не \"5\" в \"room5\"."
   ]
  },
  {
   "cell_type": "code",
   "execution_count": 111,
   "id": "0bae60d7-886b-4d4f-a9f3-03655f6be71d",
   "metadata": {},
   "outputs": [
    {
     "name": "stdout",
     "output_type": "stream",
     "text": [
      "[]\n",
      "No match\n"
     ]
    }
   ],
   "source": [
    "import re\n",
    "\n",
    "txt = \"The rain in Spain\"\n",
    "\n",
    "#Check if the string has any 0, 1, 2, or 3 digits:\n",
    "\n",
    "x = re.findall(\"[0123]\", txt)\n",
    "\n",
    "print(x)\n",
    "\n",
    "if x:\n",
    "  print(\"Yes, there is at least one match!\")\n",
    "else:\n",
    "  print(\"No match\")\n"
   ]
  },
  {
   "cell_type": "markdown",
   "id": "42572686-7781-4f54-8787-842566b99d56",
   "metadata": {},
   "source": [
    "[0-9] — ищет любую цифру от 0 до 9, например, найдет \"5\" в \"room5\"."
   ]
  },
  {
   "cell_type": "code",
   "execution_count": 114,
   "id": "6674ec34-f287-45fe-9c4c-d286623128f2",
   "metadata": {},
   "outputs": [
    {
     "name": "stdout",
     "output_type": "stream",
     "text": [
      "['8', '1', '1', '4', '5']\n",
      "Yes, there is at least one match!\n"
     ]
    }
   ],
   "source": [
    "import re\n",
    "\n",
    "txt = \"8 times before 11:45 AM\"\n",
    "\n",
    "#Check if the string has any digits:\n",
    "\n",
    "x = re.findall(\"[0-9]\", txt)\n",
    "\n",
    "print(x)\n",
    "\n",
    "if x:\n",
    "  print(\"Yes, there is at least one match!\")\n",
    "else:\n",
    "  print(\"No match\")\n"
   ]
  },
  {
   "cell_type": "markdown",
   "id": "d8a54cdb-65d6-4092-b1a0-7b6757768559",
   "metadata": {},
   "source": [
    "[0-5][0-9] — ищет двузначные числа от 00 до 59, например, найдет \"42\" в \"time42\", но не \"67\"."
   ]
  },
  {
   "cell_type": "code",
   "execution_count": 117,
   "id": "6f1cef4e-ab69-496d-9f63-1a01e8c863e2",
   "metadata": {},
   "outputs": [
    {
     "name": "stdout",
     "output_type": "stream",
     "text": [
      "['11', '45']\n",
      "Yes, there is at least one match!\n"
     ]
    }
   ],
   "source": [
    "import re\n",
    "\n",
    "txt = \"8 times before 11:45 AM\"\n",
    "\n",
    "#Check if the string has any two-digit numbers, from 00 to 59:\n",
    "\n",
    "x = re.findall(\"[0-5][0-9]\", txt)\n",
    "\n",
    "print(x)\n",
    "\n",
    "if x:\n",
    "  print(\"Yes, there is at least one match!\")\n",
    "else:\n",
    "  print(\"No match\")\n"
   ]
  },
  {
   "cell_type": "markdown",
   "id": "75dab433-7bd8-42e0-a56d-10cb21574132",
   "metadata": {},
   "source": [
    "[a-zA-Z] — ищет любую букву латинского алфавита в нижнем или верхнем регистре, например, найдет \"B\" в \"Box\" и \"m\" в \"mouse\", но не \"5\" или \"@\"."
   ]
  },
  {
   "cell_type": "code",
   "execution_count": 120,
   "id": "40f937e6-07c8-4802-bad1-2c4921c4ad19",
   "metadata": {},
   "outputs": [
    {
     "name": "stdout",
     "output_type": "stream",
     "text": [
      "['t', 'i', 'm', 'e', 's', 'b', 'e', 'f', 'o', 'r', 'e', 'A', 'M']\n",
      "Yes, there is at least one match!\n"
     ]
    }
   ],
   "source": [
    "import re\n",
    "\n",
    "txt = \"8 times before 11:45 AM\"\n",
    "\n",
    "#Check if the string has any characters from a to z lower case, and A to Z upper case:\n",
    "\n",
    "x = re.findall(\"[a-zA-Z]\", txt)\n",
    "\n",
    "print(x)\n",
    "\n",
    "if x:\n",
    "  print(\"Yes, there is at least one match!\")\n",
    "else:\n",
    "  print(\"No match\")\n"
   ]
  },
  {
   "cell_type": "markdown",
   "id": "61d49cda-64a0-434e-92be-6b9d2db751de",
   "metadata": {},
   "source": [
    "[+] — ищет символ + в строке, так как внутри квадратных скобок + не имеет специального значения, например, найдет + в \"5+3=8\"."
   ]
  },
  {
   "cell_type": "code",
   "execution_count": 123,
   "id": "018be3d9-239a-4eae-b0bc-27af3b34fa37",
   "metadata": {},
   "outputs": [
    {
     "name": "stdout",
     "output_type": "stream",
     "text": [
      "[]\n",
      "No match\n"
     ]
    }
   ],
   "source": [
    "import re\n",
    "\n",
    "txt = \"8 times before 11:45 AM\"\n",
    "\n",
    "#Check if the string has any + characters:\n",
    "\n",
    "x = re.findall(\"[+]\", txt)\n",
    "\n",
    "print(x)\n",
    "\n",
    "if x:\n",
    "  print(\"Yes, there is at least one match!\")\n",
    "else:\n",
    "  print(\"No match\")\n"
   ]
  },
  {
   "cell_type": "markdown",
   "id": "4e9ca92e-9aa1-4b4d-8704-8f96a170c24e",
   "metadata": {},
   "source": [
    "MATCH OBJECT"
   ]
  },
  {
   "cell_type": "markdown",
   "id": "c31ff9c8-5d6a-41d0-a876-f1a01278e524",
   "metadata": {},
   "source": [
    ".span() — возвращает кортеж с начальной и конечной позициями совпадения."
   ]
  },
  {
   "cell_type": "code",
   "execution_count": 127,
   "id": "f6ccea08-28ea-4f6b-88d3-e43ad783192e",
   "metadata": {},
   "outputs": [
    {
     "name": "stdout",
     "output_type": "stream",
     "text": [
      "(12, 17)\n"
     ]
    }
   ],
   "source": [
    "import re\n",
    "\n",
    "txt = \"The rain in Spain\"\n",
    "x = re.search(r\"\\bS\\w+\", txt)\n",
    "print(x.span())"
   ]
  },
  {
   "cell_type": "markdown",
   "id": "5339b121-1ed5-4d14-bf1c-68e09aec1f29",
   "metadata": {},
   "source": [
    ".string — возвращает исходную строку, переданную в функцию."
   ]
  },
  {
   "cell_type": "code",
   "execution_count": 132,
   "id": "2a2246c3-e4b7-4193-82c3-3cf8f7fd2197",
   "metadata": {},
   "outputs": [
    {
     "name": "stdout",
     "output_type": "stream",
     "text": [
      "The rain in Spain\n"
     ]
    }
   ],
   "source": [
    "import re\n",
    "\n",
    "#The string property returns the search string:\n",
    "\n",
    "txt = \"The rain in Spain\"\n",
    "x = re.search(r\"\\bS\\w+\", txt)\n",
    "print(x.string)\n"
   ]
  },
  {
   "cell_type": "markdown",
   "id": "92364d44-d147-42bb-9309-12f645665f2f",
   "metadata": {},
   "source": [
    ".group() — возвращает сам найденный фрагмент строки."
   ]
  },
  {
   "cell_type": "code",
   "execution_count": 135,
   "id": "da8a5bb5-4cc3-4a96-92c1-d082f51e52ee",
   "metadata": {},
   "outputs": [
    {
     "name": "stdout",
     "output_type": "stream",
     "text": [
      "Spain\n"
     ]
    }
   ],
   "source": [
    "import re\n",
    "\n",
    "#Search for an upper case \"S\" character in the beginning of a word, and print the word:\n",
    "\n",
    "txt = \"The rain in Spain\"\n",
    "x = re.search(r\"\\bS\\w+\", txt)\n",
    "print(x.group())"
   ]
  }
 ],
 "metadata": {
  "kernelspec": {
   "display_name": "anaconda-2024.02-py310",
   "language": "python",
   "name": "conda-env-anaconda-2024.02-py310-py"
  },
  "language_info": {
   "codemirror_mode": {
    "name": "ipython",
    "version": 3
   },
   "file_extension": ".py",
   "mimetype": "text/x-python",
   "name": "python",
   "nbconvert_exporter": "python",
   "pygments_lexer": "ipython3",
   "version": "3.10.14"
  }
 },
 "nbformat": 4,
 "nbformat_minor": 5
}
